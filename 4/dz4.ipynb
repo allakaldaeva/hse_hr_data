{
 "cells": [
  {
   "cell_type": "code",
   "execution_count": 1,
   "id": "171806cc",
   "metadata": {},
   "outputs": [],
   "source": [
    "import sqlite3\n",
    "import pandas as pd"
   ]
  },
  {
   "cell_type": "code",
   "execution_count": 2,
   "id": "48fced90",
   "metadata": {},
   "outputs": [],
   "source": [
    "# Создаем коннектор к файлу нашей базы данных. \n",
    "# Само собой, файлик Базы Данных должен лежать рядом с файлом блокнота (который вы сейчас читаете). \n",
    "con = sqlite3.connect('EmployeePoints.db')"
   ]
  },
  {
   "cell_type": "code",
   "execution_count": 3,
   "id": "cb63f6ad",
   "metadata": {},
   "outputs": [],
   "source": [
    "cur = con.cursor()"
   ]
  },
  {
   "cell_type": "code",
   "execution_count": 4,
   "id": "715b575d",
   "metadata": {},
   "outputs": [
    {
     "data": {
      "text/plain": [
       "[('Маша',), ('Петя',), ('Вася',), ('Саша',), ('Максим',)]"
      ]
     },
     "execution_count": 4,
     "metadata": {},
     "output_type": "execute_result"
    }
   ],
   "source": [
    "cur.execute('SELECT DISTINCT Employee FROM EmployeePoints').fetchall()"
   ]
  },
  {
   "cell_type": "code",
   "execution_count": 7,
   "id": "5bf24f16",
   "metadata": {},
   "outputs": [],
   "source": [
    "df_2 = pd.read_sql(\"\"\"\n",
    "    SELECT DISTINCT Employee FROM EmployeePoints\n",
    "\"\"\",con)"
   ]
  },
  {
   "cell_type": "code",
   "execution_count": 8,
   "id": "71aea344",
   "metadata": {},
   "outputs": [
    {
     "data": {
      "text/html": [
       "<div>\n",
       "<style scoped>\n",
       "    .dataframe tbody tr th:only-of-type {\n",
       "        vertical-align: middle;\n",
       "    }\n",
       "\n",
       "    .dataframe tbody tr th {\n",
       "        vertical-align: top;\n",
       "    }\n",
       "\n",
       "    .dataframe thead th {\n",
       "        text-align: right;\n",
       "    }\n",
       "</style>\n",
       "<table border=\"1\" class=\"dataframe\">\n",
       "  <thead>\n",
       "    <tr style=\"text-align: right;\">\n",
       "      <th></th>\n",
       "      <th>Employee</th>\n",
       "    </tr>\n",
       "  </thead>\n",
       "  <tbody>\n",
       "    <tr>\n",
       "      <th>0</th>\n",
       "      <td>Маша</td>\n",
       "    </tr>\n",
       "    <tr>\n",
       "      <th>1</th>\n",
       "      <td>Петя</td>\n",
       "    </tr>\n",
       "    <tr>\n",
       "      <th>2</th>\n",
       "      <td>Вася</td>\n",
       "    </tr>\n",
       "    <tr>\n",
       "      <th>3</th>\n",
       "      <td>Саша</td>\n",
       "    </tr>\n",
       "    <tr>\n",
       "      <th>4</th>\n",
       "      <td>Максим</td>\n",
       "    </tr>\n",
       "  </tbody>\n",
       "</table>\n",
       "</div>"
      ],
      "text/plain": [
       "  Employee\n",
       "0     Маша\n",
       "1     Петя\n",
       "2     Вася\n",
       "3     Саша\n",
       "4   Максим"
      ]
     },
     "execution_count": 8,
     "metadata": {},
     "output_type": "execute_result"
    }
   ],
   "source": [
    "df_2"
   ]
  },
  {
   "cell_type": "code",
   "execution_count": 6,
   "id": "6aaa49f5",
   "metadata": {},
   "outputs": [
    {
     "data": {
      "text/plain": [
       "[('Маша', 3), ('Саша', 2)]"
      ]
     },
     "execution_count": 6,
     "metadata": {},
     "output_type": "execute_result"
    }
   ],
   "source": [
    "cur.execute(\"\"\"\n",
    "    SELECT Employee, COUNT (Point) as NumberOfFive\n",
    "    from EmployeePoints\n",
    "    WHERE Point='5'\n",
    "    GROUP BY Employee\n",
    "    ORDER BY NumberOfFive DESC\n",
    "    \"\"\").fetchall()"
   ]
  },
  {
   "cell_type": "code",
   "execution_count": 9,
   "id": "d7797c6a",
   "metadata": {},
   "outputs": [],
   "source": [
    "df_3 = pd.read_sql(\"\"\"\n",
    "    SELECT Employee, COUNT (Point) as NumberOfFive\n",
    "    from EmployeePoints\n",
    "    WHERE Point='5'\n",
    "    GROUP BY Employee\n",
    "    ORDER BY NumberOfFive DESC\n",
    "\"\"\",con)"
   ]
  },
  {
   "cell_type": "code",
   "execution_count": 10,
   "id": "dc710b77",
   "metadata": {},
   "outputs": [
    {
     "data": {
      "text/html": [
       "<div>\n",
       "<style scoped>\n",
       "    .dataframe tbody tr th:only-of-type {\n",
       "        vertical-align: middle;\n",
       "    }\n",
       "\n",
       "    .dataframe tbody tr th {\n",
       "        vertical-align: top;\n",
       "    }\n",
       "\n",
       "    .dataframe thead th {\n",
       "        text-align: right;\n",
       "    }\n",
       "</style>\n",
       "<table border=\"1\" class=\"dataframe\">\n",
       "  <thead>\n",
       "    <tr style=\"text-align: right;\">\n",
       "      <th></th>\n",
       "      <th>Employee</th>\n",
       "      <th>NumberOfFive</th>\n",
       "    </tr>\n",
       "  </thead>\n",
       "  <tbody>\n",
       "    <tr>\n",
       "      <th>0</th>\n",
       "      <td>Маша</td>\n",
       "      <td>3</td>\n",
       "    </tr>\n",
       "    <tr>\n",
       "      <th>1</th>\n",
       "      <td>Саша</td>\n",
       "      <td>2</td>\n",
       "    </tr>\n",
       "  </tbody>\n",
       "</table>\n",
       "</div>"
      ],
      "text/plain": [
       "  Employee  NumberOfFive\n",
       "0     Маша             3\n",
       "1     Саша             2"
      ]
     },
     "execution_count": 10,
     "metadata": {},
     "output_type": "execute_result"
    }
   ],
   "source": [
    "df_3"
   ]
  },
  {
   "cell_type": "code",
   "execution_count": null,
   "id": "4c66c73b",
   "metadata": {},
   "outputs": [],
   "source": []
  }
 ],
 "metadata": {
  "kernelspec": {
   "display_name": "Python 3",
   "language": "python",
   "name": "python3"
  },
  "language_info": {
   "codemirror_mode": {
    "name": "ipython",
    "version": 3
   },
   "file_extension": ".py",
   "mimetype": "text/x-python",
   "name": "python",
   "nbconvert_exporter": "python",
   "pygments_lexer": "ipython3",
   "version": "3.8.8"
  }
 },
 "nbformat": 4,
 "nbformat_minor": 5
}
