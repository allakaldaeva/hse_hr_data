{
 "cells": [
  {
   "cell_type": "markdown",
   "id": "831bfc92",
   "metadata": {},
   "source": [
    "# Цель исследования - понять, какой признак оказывает наиболее существенное влияние на намерение сотрудника покинуть компанию"
   ]
  },
  {
   "cell_type": "code",
   "execution_count": 1,
   "id": "d6568cfd",
   "metadata": {},
   "outputs": [],
   "source": [
    "# импортируем нужные библиотеки\n",
    "import pandas as pd\n",
    "import numpy as np\n",
    "import matplotlib\n",
    "import matplotlib.pyplot as plt\n",
    "from scipy import stats"
   ]
  },
  {
   "cell_type": "code",
   "execution_count": 2,
   "id": "e990cbd0",
   "metadata": {},
   "outputs": [
    {
     "name": "stdout",
     "output_type": "stream",
     "text": [
      "<class 'pandas.core.frame.DataFrame'>\n",
      "RangeIndex: 14999 entries, 0 to 14998\n",
      "Data columns (total 10 columns):\n",
      " #   Column                 Non-Null Count  Dtype  \n",
      "---  ------                 --------------  -----  \n",
      " 0   satisfaction_level     14999 non-null  float64\n",
      " 1   last_evaluation        14999 non-null  float64\n",
      " 2   number_project         14999 non-null  int64  \n",
      " 3   average_montly_hours   14999 non-null  int64  \n",
      " 4   time_spend_company     14999 non-null  int64  \n",
      " 5   Work_accident          14999 non-null  int64  \n",
      " 6   left                   14999 non-null  int64  \n",
      " 7   promotion_last_5years  14999 non-null  int64  \n",
      " 8   Department             14999 non-null  object \n",
      " 9   salary                 14999 non-null  object \n",
      "dtypes: float64(2), int64(6), object(2)\n",
      "memory usage: 1.1+ MB\n"
     ]
    },
    {
     "data": {
      "text/html": [
       "<div>\n",
       "<style scoped>\n",
       "    .dataframe tbody tr th:only-of-type {\n",
       "        vertical-align: middle;\n",
       "    }\n",
       "\n",
       "    .dataframe tbody tr th {\n",
       "        vertical-align: top;\n",
       "    }\n",
       "\n",
       "    .dataframe thead th {\n",
       "        text-align: right;\n",
       "    }\n",
       "</style>\n",
       "<table border=\"1\" class=\"dataframe\">\n",
       "  <thead>\n",
       "    <tr style=\"text-align: right;\">\n",
       "      <th></th>\n",
       "      <th>satisfaction_level</th>\n",
       "      <th>last_evaluation</th>\n",
       "      <th>number_project</th>\n",
       "      <th>average_montly_hours</th>\n",
       "      <th>time_spend_company</th>\n",
       "      <th>Work_accident</th>\n",
       "      <th>left</th>\n",
       "      <th>promotion_last_5years</th>\n",
       "      <th>Department</th>\n",
       "      <th>salary</th>\n",
       "    </tr>\n",
       "  </thead>\n",
       "  <tbody>\n",
       "    <tr>\n",
       "      <th>0</th>\n",
       "      <td>0.38</td>\n",
       "      <td>0.53</td>\n",
       "      <td>2</td>\n",
       "      <td>157</td>\n",
       "      <td>3</td>\n",
       "      <td>0</td>\n",
       "      <td>1</td>\n",
       "      <td>0</td>\n",
       "      <td>sales</td>\n",
       "      <td>low</td>\n",
       "    </tr>\n",
       "    <tr>\n",
       "      <th>1</th>\n",
       "      <td>0.80</td>\n",
       "      <td>0.86</td>\n",
       "      <td>5</td>\n",
       "      <td>262</td>\n",
       "      <td>6</td>\n",
       "      <td>0</td>\n",
       "      <td>1</td>\n",
       "      <td>0</td>\n",
       "      <td>sales</td>\n",
       "      <td>medium</td>\n",
       "    </tr>\n",
       "    <tr>\n",
       "      <th>2</th>\n",
       "      <td>0.11</td>\n",
       "      <td>0.88</td>\n",
       "      <td>7</td>\n",
       "      <td>272</td>\n",
       "      <td>4</td>\n",
       "      <td>0</td>\n",
       "      <td>1</td>\n",
       "      <td>0</td>\n",
       "      <td>sales</td>\n",
       "      <td>medium</td>\n",
       "    </tr>\n",
       "    <tr>\n",
       "      <th>3</th>\n",
       "      <td>0.72</td>\n",
       "      <td>0.87</td>\n",
       "      <td>5</td>\n",
       "      <td>223</td>\n",
       "      <td>5</td>\n",
       "      <td>0</td>\n",
       "      <td>1</td>\n",
       "      <td>0</td>\n",
       "      <td>sales</td>\n",
       "      <td>low</td>\n",
       "    </tr>\n",
       "    <tr>\n",
       "      <th>4</th>\n",
       "      <td>0.37</td>\n",
       "      <td>0.52</td>\n",
       "      <td>2</td>\n",
       "      <td>159</td>\n",
       "      <td>3</td>\n",
       "      <td>0</td>\n",
       "      <td>1</td>\n",
       "      <td>0</td>\n",
       "      <td>sales</td>\n",
       "      <td>low</td>\n",
       "    </tr>\n",
       "  </tbody>\n",
       "</table>\n",
       "</div>"
      ],
      "text/plain": [
       "   satisfaction_level  last_evaluation  number_project  average_montly_hours  \\\n",
       "0                0.38             0.53               2                   157   \n",
       "1                0.80             0.86               5                   262   \n",
       "2                0.11             0.88               7                   272   \n",
       "3                0.72             0.87               5                   223   \n",
       "4                0.37             0.52               2                   159   \n",
       "\n",
       "   time_spend_company  Work_accident  left  promotion_last_5years Department  \\\n",
       "0                   3              0     1                      0      sales   \n",
       "1                   6              0     1                      0      sales   \n",
       "2                   4              0     1                      0      sales   \n",
       "3                   5              0     1                      0      sales   \n",
       "4                   3              0     1                      0      sales   \n",
       "\n",
       "   salary  \n",
       "0     low  \n",
       "1  medium  \n",
       "2  medium  \n",
       "3     low  \n",
       "4     low  "
      ]
     },
     "execution_count": 2,
     "metadata": {},
     "output_type": "execute_result"
    }
   ],
   "source": [
    "#считываем данные и смотрим общую информацию\n",
    "df = pd.read_csv('HR_comma_sep.csv')\n",
    "df.info()\n",
    "df.head()"
   ]
  },
  {
   "cell_type": "code",
   "execution_count": 3,
   "id": "7beb2cf9",
   "metadata": {
    "scrolled": true
   },
   "outputs": [
    {
     "data": {
      "text/html": [
       "<div>\n",
       "<style scoped>\n",
       "    .dataframe tbody tr th:only-of-type {\n",
       "        vertical-align: middle;\n",
       "    }\n",
       "\n",
       "    .dataframe tbody tr th {\n",
       "        vertical-align: top;\n",
       "    }\n",
       "\n",
       "    .dataframe thead th {\n",
       "        text-align: right;\n",
       "    }\n",
       "</style>\n",
       "<table border=\"1\" class=\"dataframe\">\n",
       "  <thead>\n",
       "    <tr style=\"text-align: right;\">\n",
       "      <th></th>\n",
       "      <th>satisfaction_level</th>\n",
       "      <th>last_evaluation</th>\n",
       "      <th>number_project</th>\n",
       "      <th>average_montly_hours</th>\n",
       "      <th>time_spend_company</th>\n",
       "      <th>Work_accident</th>\n",
       "      <th>left</th>\n",
       "      <th>promotion_last_5years</th>\n",
       "    </tr>\n",
       "  </thead>\n",
       "  <tbody>\n",
       "    <tr>\n",
       "      <th>count</th>\n",
       "      <td>14999.000000</td>\n",
       "      <td>14999.000000</td>\n",
       "      <td>14999.000000</td>\n",
       "      <td>14999.000000</td>\n",
       "      <td>14999.000000</td>\n",
       "      <td>14999.000000</td>\n",
       "      <td>14999.000000</td>\n",
       "      <td>14999.000000</td>\n",
       "    </tr>\n",
       "    <tr>\n",
       "      <th>mean</th>\n",
       "      <td>0.612834</td>\n",
       "      <td>0.716102</td>\n",
       "      <td>3.803054</td>\n",
       "      <td>201.050337</td>\n",
       "      <td>3.498233</td>\n",
       "      <td>0.144610</td>\n",
       "      <td>0.238083</td>\n",
       "      <td>0.021268</td>\n",
       "    </tr>\n",
       "    <tr>\n",
       "      <th>std</th>\n",
       "      <td>0.248631</td>\n",
       "      <td>0.171169</td>\n",
       "      <td>1.232592</td>\n",
       "      <td>49.943099</td>\n",
       "      <td>1.460136</td>\n",
       "      <td>0.351719</td>\n",
       "      <td>0.425924</td>\n",
       "      <td>0.144281</td>\n",
       "    </tr>\n",
       "    <tr>\n",
       "      <th>min</th>\n",
       "      <td>0.090000</td>\n",
       "      <td>0.360000</td>\n",
       "      <td>2.000000</td>\n",
       "      <td>96.000000</td>\n",
       "      <td>2.000000</td>\n",
       "      <td>0.000000</td>\n",
       "      <td>0.000000</td>\n",
       "      <td>0.000000</td>\n",
       "    </tr>\n",
       "    <tr>\n",
       "      <th>25%</th>\n",
       "      <td>0.440000</td>\n",
       "      <td>0.560000</td>\n",
       "      <td>3.000000</td>\n",
       "      <td>156.000000</td>\n",
       "      <td>3.000000</td>\n",
       "      <td>0.000000</td>\n",
       "      <td>0.000000</td>\n",
       "      <td>0.000000</td>\n",
       "    </tr>\n",
       "    <tr>\n",
       "      <th>50%</th>\n",
       "      <td>0.640000</td>\n",
       "      <td>0.720000</td>\n",
       "      <td>4.000000</td>\n",
       "      <td>200.000000</td>\n",
       "      <td>3.000000</td>\n",
       "      <td>0.000000</td>\n",
       "      <td>0.000000</td>\n",
       "      <td>0.000000</td>\n",
       "    </tr>\n",
       "    <tr>\n",
       "      <th>75%</th>\n",
       "      <td>0.820000</td>\n",
       "      <td>0.870000</td>\n",
       "      <td>5.000000</td>\n",
       "      <td>245.000000</td>\n",
       "      <td>4.000000</td>\n",
       "      <td>0.000000</td>\n",
       "      <td>0.000000</td>\n",
       "      <td>0.000000</td>\n",
       "    </tr>\n",
       "    <tr>\n",
       "      <th>max</th>\n",
       "      <td>1.000000</td>\n",
       "      <td>1.000000</td>\n",
       "      <td>7.000000</td>\n",
       "      <td>310.000000</td>\n",
       "      <td>10.000000</td>\n",
       "      <td>1.000000</td>\n",
       "      <td>1.000000</td>\n",
       "      <td>1.000000</td>\n",
       "    </tr>\n",
       "  </tbody>\n",
       "</table>\n",
       "</div>"
      ],
      "text/plain": [
       "       satisfaction_level  last_evaluation  number_project  \\\n",
       "count        14999.000000     14999.000000    14999.000000   \n",
       "mean             0.612834         0.716102        3.803054   \n",
       "std              0.248631         0.171169        1.232592   \n",
       "min              0.090000         0.360000        2.000000   \n",
       "25%              0.440000         0.560000        3.000000   \n",
       "50%              0.640000         0.720000        4.000000   \n",
       "75%              0.820000         0.870000        5.000000   \n",
       "max              1.000000         1.000000        7.000000   \n",
       "\n",
       "       average_montly_hours  time_spend_company  Work_accident          left  \\\n",
       "count          14999.000000        14999.000000   14999.000000  14999.000000   \n",
       "mean             201.050337            3.498233       0.144610      0.238083   \n",
       "std               49.943099            1.460136       0.351719      0.425924   \n",
       "min               96.000000            2.000000       0.000000      0.000000   \n",
       "25%              156.000000            3.000000       0.000000      0.000000   \n",
       "50%              200.000000            3.000000       0.000000      0.000000   \n",
       "75%              245.000000            4.000000       0.000000      0.000000   \n",
       "max              310.000000           10.000000       1.000000      1.000000   \n",
       "\n",
       "       promotion_last_5years  \n",
       "count           14999.000000  \n",
       "mean                0.021268  \n",
       "std                 0.144281  \n",
       "min                 0.000000  \n",
       "25%                 0.000000  \n",
       "50%                 0.000000  \n",
       "75%                 0.000000  \n",
       "max                 1.000000  "
      ]
     },
     "execution_count": 3,
     "metadata": {},
     "output_type": "execute_result"
    }
   ],
   "source": [
    "#смотрим основные метрики\n",
    "df.describe()"
   ]
  },
  {
   "cell_type": "code",
   "execution_count": 5,
   "id": "86bd8218",
   "metadata": {},
   "outputs": [
    {
     "data": {
      "image/png": "[encoded data removed]",
      "text/plain": [
       "<Figure size 1440x1440 with 9 Axes>"
      ]
     },
     "metadata": {
      "needs_background": "light"
     },
     "output_type": "display_data"
    }
   ],
   "source": [
    "#смотрим каждый признак отдельно в виде гистограммы\n",
    "df.hist(figsize=(20,20))\n",
    "plt.show()"
   ]
  },
  {
   "cell_type": "code",
   "execution_count": 6,
   "id": "1cf8c1a0",
   "metadata": {},
   "outputs": [
    {
     "data": {
      "text/plain": [
       "(array([4140.,  767.,  739., 2720., 2229.,  630., 1227.,  902.,  858.,\n",
       "         787.]),\n",
       " array([0. , 0.9, 1.8, 2.7, 3.6, 4.5, 5.4, 6.3, 7.2, 8.1, 9. ]),\n",
       " <BarContainer object of 10 artists>)"
      ]
     },
     "execution_count": 6,
     "metadata": {},
     "output_type": "execute_result"
    },
    {
     "data": {
      "image/png": "[encoded data removed]",
      "text/plain": [
       "<Figure size 432x288 with 1 Axes>"
      ]
     },
     "metadata": {
      "needs_background": "light"
     },
     "output_type": "display_data"
    }
   ],
   "source": [
    "#смотрим распределение по департаментам\n",
    "plt.hist(df['Department'])"
   ]
  },
  {
   "cell_type": "code",
   "execution_count": 7,
   "id": "8d0fdc26",
   "metadata": {},
   "outputs": [
    {
     "data": {
      "text/plain": [
       "(array([7316.,    0.,    0.,    0.,    0., 6446.,    0.,    0.,    0.,\n",
       "        1237.]),\n",
       " array([0. , 0.2, 0.4, 0.6, 0.8, 1. , 1.2, 1.4, 1.6, 1.8, 2. ]),\n",
       " <BarContainer object of 10 artists>)"
      ]
     },
     "execution_count": 7,
     "metadata": {},
     "output_type": "execute_result"
    },
    {
     "data": {
      "image/png": "[encoded data removed]",
      "text/plain": [
       "<Figure size 432x288 with 1 Axes>"
      ]
     },
     "metadata": {
      "needs_background": "light"
     },
     "output_type": "display_data"
    }
   ],
   "source": [
    "#смотрим распределение по зарплате\n",
    "plt.hist(df['salary'])"
   ]
  },
  {
   "cell_type": "code",
   "execution_count": 8,
   "id": "37ec660b",
   "metadata": {},
   "outputs": [],
   "source": [
    "#удаляем аномальные значения по уровню удовлетворенности\n",
    "df['anomally_satisfaction_level'] = np.where(\n",
    "                            df['satisfaction_level'] > \n",
    "                            np.mean(df.satisfaction_level) + 3*np.std(df.satisfaction_level),                 \n",
    "                            1, 0)\n",
    "df_anomally_satisfaction_level = df[df['satisfaction_level'] == 1]\n",
    "\n",
    "df=df.drop(df_anomally_satisfaction_level.index)"
   ]
  },
  {
   "cell_type": "code",
   "execution_count": 9,
   "id": "d8fc0e64",
   "metadata": {},
   "outputs": [],
   "source": [
    "#удаляем аномальные значения по последней оценке\n",
    "df['anomally_last_evaluation'] = np.where(\n",
    "                            df['last_evaluation'] > \n",
    "                            np.mean(df.last_evaluation) + 3*np.std(df.last_evaluation),                 \n",
    "                            1, 0)\n",
    "df_anomally_last_evaluation = df[df['last_evaluation'] == 1]\n",
    "\n",
    "\n",
    "df=df.drop(df_anomally_last_evaluation.index)\n"
   ]
  },
  {
   "cell_type": "code",
   "execution_count": 10,
   "id": "e17301ba",
   "metadata": {},
   "outputs": [],
   "source": [
    "#удаляем аномальные значения по количеству проектов\n",
    "df['anomally_number_project'] = np.where(\n",
    "                            df['number_project'] > \n",
    "                            np.mean(df.number_project) + 3*np.std(df.number_project),                 \n",
    "                            1, 0)\n",
    "df_anomally_number_project = df[df['number_project'] == 1]\n",
    "\n",
    "df=df.drop(df_anomally_number_project.index)"
   ]
  },
  {
   "cell_type": "code",
   "execution_count": 11,
   "id": "dbd0bee6",
   "metadata": {},
   "outputs": [],
   "source": [
    "#удаляем аномальные значения по среднему количеству рабочих часов\n",
    "df['anomally_average_montly_hours'] = np.where(\n",
    "                            df['average_montly_hours'] > \n",
    "                            np.mean(df.average_montly_hours) + 3*np.std(df.average_montly_hours),                 \n",
    "                            1, 0)\n",
    "df_anomally_average_montly_hours = df[df['average_montly_hours'] == 1]\n",
    "\n",
    "df=df.drop(df_anomally_average_montly_hours.index)"
   ]
  },
  {
   "cell_type": "code",
   "execution_count": 12,
   "id": "c83c3c8c",
   "metadata": {},
   "outputs": [],
   "source": [
    "#удаляем аномальные значения по времени в компании\n",
    "df['anomally_time_spend_company'] = np.where(\n",
    "                            df['time_spend_company'] > \n",
    "                            np.mean(df.time_spend_company) + 3*np.std(df.time_spend_company),                 \n",
    "                            1, 0)\n",
    "df_anomally_time_spend_company = df[df['time_spend_company'] == 1]\n",
    "\n",
    "df=df.drop(df_anomally_time_spend_company.index)"
   ]
  },
  {
   "cell_type": "code",
   "execution_count": 13,
   "id": "56ba1160",
   "metadata": {},
   "outputs": [],
   "source": [
    "#Разделим данные на признаки и на тот параметр, который мы хотим предсказывать\n",
    "\n",
    "X = df[['satisfaction_level', 'last_evaluation', 'number_project', 'average_montly_hours', \n",
    "           'time_spend_company', 'Work_accident', 'promotion_last_5years', 'Department','salary']]\n",
    "\n",
    "y = df[['left']].values.ravel()"
   ]
  },
  {
   "cell_type": "code",
   "execution_count": 14,
   "id": "a1f096d6",
   "metadata": {},
   "outputs": [
    {
     "name": "stderr",
     "output_type": "stream",
     "text": [
      "<ipython-input-14-ededd401d325>:12: SettingWithCopyWarning: \n",
      "A value is trying to be set on a copy of a slice from a DataFrame.\n",
      "Try using .loc[row_indexer,col_indexer] = value instead\n",
      "\n",
      "See the caveats in the documentation: https://pandas.pydata.org/pandas-docs/stable/user_guide/indexing.html#returning-a-view-versus-a-copy\n",
      "  X['Department_id'] = labelencoder.fit_transform(temp_df1['Department'])\n",
      "<ipython-input-14-ededd401d325>:13: SettingWithCopyWarning: \n",
      "A value is trying to be set on a copy of a slice from a DataFrame.\n",
      "Try using .loc[row_indexer,col_indexer] = value instead\n",
      "\n",
      "See the caveats in the documentation: https://pandas.pydata.org/pandas-docs/stable/user_guide/indexing.html#returning-a-view-versus-a-copy\n",
      "  X['salary_id'] = labelencoder.fit_transform(temp_df2['salary'])\n"
     ]
    }
   ],
   "source": [
    "#Подготовим данные. Сначала назначим цифры вместо текстовых признаков - Department и salary\n",
    "\n",
    "from sklearn.preprocessing import LabelEncoder\n",
    "# creat1ing initial dataframe\n",
    "temp_df1 = pd.DataFrame(X[['Department']])\n",
    "temp_df2 = pd.DataFrame(X[['salary']])\n",
    "\n",
    "# creating instance of labelencoder\n",
    "labelencoder = LabelEncoder()\n",
    "\n",
    "# Assigning numerical values and storing in another column\n",
    "X['Department_id'] = labelencoder.fit_transform(temp_df1['Department'])\n",
    "X['salary_id'] = labelencoder.fit_transform(temp_df2['salary'])\n",
    "\n",
    "X.head(10)\n",
    "\n",
    "X_new = X[['satisfaction_level', 'last_evaluation', 'number_project', 'average_montly_hours', \n",
    "           'time_spend_company', 'Work_accident', 'promotion_last_5years', 'Department_id','salary_id']]\n",
    "\n",
    "#Подготовим данные.Отнормируем числовые признаки\n",
    "\n",
    "from sklearn.preprocessing import MinMaxScaler\n",
    "\n",
    "def scaling(df):\n",
    "    scaler = MinMaxScaler() \n",
    "    data_scaled = scaler.fit_transform(df)\n",
    "    df_scaled = pd.DataFrame(data_scaled)\n",
    "    return df_scaled\n",
    "\n",
    "X_scaled = scaling(X_new)"
   ]
  },
  {
   "cell_type": "code",
   "execution_count": 15,
   "id": "5378aea8",
   "metadata": {},
   "outputs": [
    {
     "name": "stdout",
     "output_type": "stream",
     "text": [
      "(10224, 9)\n",
      "(4382, 9)\n",
      "(10224,)\n",
      "(4382,)\n"
     ]
    }
   ],
   "source": [
    "#Разделим датасет на трейновый и тестовый\n",
    "from sklearn.model_selection import train_test_split\n",
    "X_train, X_test, Y_train, Y_test = train_test_split(X_scaled, y, test_size = 0.3, random_state=42)\n",
    "print(X_train.shape)\n",
    "print(X_test.shape)\n",
    "print(Y_train.shape)\n",
    "print(Y_test.shape)"
   ]
  },
  {
   "cell_type": "markdown",
   "id": "12d746d8",
   "metadata": {},
   "source": [
    "# Logistic regression"
   ]
  },
  {
   "cell_type": "code",
   "execution_count": 16,
   "id": "bf500074",
   "metadata": {},
   "outputs": [
    {
     "data": {
      "text/plain": [
       "LogisticRegression()"
      ]
     },
     "execution_count": 16,
     "metadata": {},
     "output_type": "execute_result"
    }
   ],
   "source": [
    "#Обучаем логистическую регрессию\n",
    "from sklearn.linear_model import LogisticRegression\n",
    "lin_model = LogisticRegression()\n",
    "lin_model.fit(X_train, Y_train)"
   ]
  },
  {
   "cell_type": "code",
   "execution_count": 17,
   "id": "859f54bc",
   "metadata": {},
   "outputs": [],
   "source": [
    "names = ['satisfaction_level', 'last_evaluation', 'number_project', 'average_montly_hours', \n",
    "           'time_spend_company', 'Work_accident', 'promotion_last_5years', 'Department','salary']"
   ]
  },
  {
   "cell_type": "code",
   "execution_count": 18,
   "id": "d1696950",
   "metadata": {},
   "outputs": [
    {
     "name": "stdout",
     "output_type": "stream",
     "text": [
      "satisfaction_level -3.835541932504248\n",
      "last_evaluation 0.21492538722516907\n",
      "number_project -1.3991721763263159\n",
      "average_montly_hours 0.7768450461292723\n",
      "time_spend_company 1.5534698392659607\n",
      "Work_accident -1.459962610284176\n",
      "promotion_last_5years -1.9937057557154922\n",
      "Department 0.39322207625214606\n",
      "salary -0.04482211188704232\n"
     ]
    }
   ],
   "source": [
    "#Пропишем вес каждого признака\n",
    "importance = lin_model.coef_\n",
    "for i in range(len(names)):\n",
    "    print(names[i], importance[0][i])"
   ]
  },
  {
   "cell_type": "code",
   "execution_count": 19,
   "id": "2e4a40c1",
   "metadata": {},
   "outputs": [],
   "source": [
    "#Посмотрим метрики \n",
    "from sklearn.metrics import classification_report"
   ]
  },
  {
   "cell_type": "code",
   "execution_count": 20,
   "id": "348b8cf7",
   "metadata": {},
   "outputs": [
    {
     "name": "stdout",
     "output_type": "stream",
     "text": [
      "              precision    recall  f1-score   support\n",
      "\n",
      "           0       0.81      0.93      0.86      3342\n",
      "           1       0.56      0.28      0.38      1040\n",
      "\n",
      "    accuracy                           0.78      4382\n",
      "   macro avg       0.68      0.61      0.62      4382\n",
      "weighted avg       0.75      0.78      0.75      4382\n",
      "\n"
     ]
    }
   ],
   "source": [
    "print(classification_report(Y_test, lin_model.predict(X_test)))"
   ]
  },
  {
   "cell_type": "markdown",
   "id": "bad80a25",
   "metadata": {},
   "source": [
    "# Tree"
   ]
  },
  {
   "cell_type": "code",
   "execution_count": 21,
   "id": "413f576d",
   "metadata": {},
   "outputs": [],
   "source": [
    "#Обучим алгоритм \"Дерево\"\n",
    "from sklearn.tree import DecisionTreeClassifier"
   ]
  },
  {
   "cell_type": "code",
   "execution_count": 22,
   "id": "45d5e182",
   "metadata": {},
   "outputs": [
    {
     "data": {
      "text/plain": [
       "DecisionTreeClassifier()"
      ]
     },
     "execution_count": 22,
     "metadata": {},
     "output_type": "execute_result"
    }
   ],
   "source": [
    "tree = DecisionTreeClassifier()\n",
    "tree.fit(X_train, Y_train)"
   ]
  },
  {
   "cell_type": "code",
   "execution_count": 23,
   "id": "4712e233",
   "metadata": {},
   "outputs": [
    {
     "name": "stdout",
     "output_type": "stream",
     "text": [
      "              precision    recall  f1-score   support\n",
      "\n",
      "           0       0.99      0.98      0.99      3342\n",
      "           1       0.93      0.98      0.96      1040\n",
      "\n",
      "    accuracy                           0.98      4382\n",
      "   macro avg       0.96      0.98      0.97      4382\n",
      "weighted avg       0.98      0.98      0.98      4382\n",
      "\n"
     ]
    }
   ],
   "source": [
    "#Посмотрим метрики \n",
    "print(classification_report(Y_test, tree.predict(X_test)))"
   ]
  },
  {
   "cell_type": "markdown",
   "id": "32538b1a",
   "metadata": {},
   "source": [
    "# Random forest"
   ]
  },
  {
   "cell_type": "code",
   "execution_count": null,
   "id": "0240fe38",
   "metadata": {},
   "outputs": [],
   "source": [
    "#Обучим алгоритм \"Random forest\"\n",
    "from sklearn.ensemble import RandomForestClassifier"
   ]
  },
  {
   "cell_type": "code",
   "execution_count": null,
   "id": "921f3bc2",
   "metadata": {},
   "outputs": [],
   "source": [
    "forest = RandomForestClassifier(max_depth=5, n_estimators = 200, random_state=0)\n",
    "forest.fit(X_train, Y_train)"
   ]
  },
  {
   "cell_type": "code",
   "execution_count": null,
   "id": "726fa81c",
   "metadata": {},
   "outputs": [],
   "source": [
    "#Посмотрим метрики \n",
    "print(classification_report(Y_test, forest.predict(X_test)))"
   ]
  },
  {
   "cell_type": "markdown",
   "id": "70aebcd0",
   "metadata": {},
   "source": [
    "# Выводы"
   ]
  },
  {
   "cell_type": "code",
   "execution_count": null,
   "id": "113ae406",
   "metadata": {},
   "outputs": [],
   "source": [
    "1. Алгоритм Tree с наибольшей точностью классифицирует сотрудников по признаку left\n",
    "2. Наиболее весомым признаком является satisfaction_level\n",
    "3. Наименее весомым признаком является salary\n"
   ]
  }
 ],
 "metadata": {
  "kernelspec": {
   "display_name": "Python 3",
   "language": "python",
   "name": "python3"
  },
  "language_info": {
   "codemirror_mode": {
    "name": "ipython",
    "version": 3
   },
   "file_extension": ".py",
   "mimetype": "text/x-python",
   "name": "python",
   "nbconvert_exporter": "python",
   "pygments_lexer": "ipython3",
   "version": "3.8.8"
  }
 },
 "nbformat": 4,
 "nbformat_minor": 5
}
